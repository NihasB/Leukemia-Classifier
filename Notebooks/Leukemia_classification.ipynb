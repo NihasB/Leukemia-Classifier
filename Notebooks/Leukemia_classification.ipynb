{
 "cells": [
  {
   "cell_type": "code",
   "execution_count": 2,
   "id": "5c684d90",
   "metadata": {},
   "outputs": [],
   "source": [
    "from tensorflow.keras.models import Sequential\n",
    "from tensorflow.keras.layers import Conv2D, MaxPooling2D, Flatten, Dense\n",
    "from tensorflow.keras.preprocessing.image import ImageDataGenerator\n",
    "from tensorflow.keras.models import load_model\n",
    "\n",
    "\n",
    "train_path = 'N:\\Leukemia Cell Classification\\Data\\Train_data'\n",
    "test_path = 'N:\\Leukemia Cell Classification\\Data\\Test_data'\n",
    "\n",
    "train_gen = ImageDataGenerator(rescale=1./255)\n",
    "test_gen = ImageDataGenerator(rescale=1./255)"
   ]
  },
  {
   "cell_type": "code",
   "execution_count": 8,
   "id": "1304abe4",
   "metadata": {},
   "outputs": [
    {
     "name": "stdout",
     "output_type": "stream",
     "text": [
      "Found 3527 images belonging to 2 classes.\n",
      "Found 727 images belonging to 2 classes.\n"
     ]
    }
   ],
   "source": [
    "train_data = train_gen.flow_from_directory(\n",
    "    train_path, target_size=(64, 64), batch_size=32, class_mode='binary'\n",
    ")\n",
    "test_data = test_gen.flow_from_directory(\n",
    "    test_path, target_size=(64, 64), batch_size=32, class_mode='binary'\n",
    ")"
   ]
  },
  {
   "cell_type": "code",
   "execution_count": 9,
   "id": "8723d6fb",
   "metadata": {},
   "outputs": [],
   "source": [
    "model = Sequential([\n",
    "    Conv2D(32, (3, 3), activation='relu', input_shape=(64, 64, 3)),\n",
    "    MaxPooling2D(2, 2),\n",
    "    Conv2D(64, (3, 3), activation='relu'),\n",
    "    MaxPooling2D(2, 2),\n",
    "    Flatten(),\n",
    "    Dense(128, activation='relu'),\n",
    "    Dense(1, activation='sigmoid')\n",
    "])\n"
   ]
  },
  {
   "cell_type": "code",
   "execution_count": 13,
   "id": "c5357637",
   "metadata": {},
   "outputs": [
    {
     "name": "stdout",
     "output_type": "stream",
     "text": [
      "Epoch 1/10\n",
      "111/111 [==============================] - 8s 65ms/step - loss: 0.0450 - accuracy: 0.9861 - val_loss: 1.8253 - val_accuracy: 0.7029\n",
      "Epoch 2/10\n",
      "111/111 [==============================] - 7s 63ms/step - loss: 0.0271 - accuracy: 0.9929 - val_loss: 1.5490 - val_accuracy: 0.6451\n",
      "Epoch 3/10\n",
      "111/111 [==============================] - 7s 62ms/step - loss: 0.0316 - accuracy: 0.9898 - val_loss: 1.8473 - val_accuracy: 0.6465\n",
      "Epoch 4/10\n",
      "111/111 [==============================] - 7s 62ms/step - loss: 0.0630 - accuracy: 0.9762 - val_loss: 1.7147 - val_accuracy: 0.6754\n",
      "Epoch 5/10\n",
      "111/111 [==============================] - 7s 62ms/step - loss: 0.0385 - accuracy: 0.9867 - val_loss: 2.0286 - val_accuracy: 0.6671\n",
      "Epoch 6/10\n",
      "111/111 [==============================] - 7s 63ms/step - loss: 0.0313 - accuracy: 0.9909 - val_loss: 2.3500 - val_accuracy: 0.6891\n",
      "Epoch 7/10\n",
      "111/111 [==============================] - 7s 63ms/step - loss: 0.0212 - accuracy: 0.9955 - val_loss: 2.3295 - val_accuracy: 0.6933\n",
      "Epoch 8/10\n",
      "111/111 [==============================] - 7s 63ms/step - loss: 0.0107 - accuracy: 0.9986 - val_loss: 2.5386 - val_accuracy: 0.6960\n",
      "Epoch 9/10\n",
      "111/111 [==============================] - 7s 65ms/step - loss: 0.0038 - accuracy: 0.9997 - val_loss: 2.5434 - val_accuracy: 0.6933\n",
      "Epoch 10/10\n",
      "111/111 [==============================] - 9s 76ms/step - loss: 0.0027 - accuracy: 0.9997 - val_loss: 2.6983 - val_accuracy: 0.6919\n"
     ]
    },
    {
     "data": {
      "text/plain": [
       "<keras.callbacks.History at 0x1c40c5c0be0>"
      ]
     },
     "execution_count": 13,
     "metadata": {},
     "output_type": "execute_result"
    }
   ],
   "source": [
    "model.compile(optimizer='adam', loss='binary_crossentropy', metrics=['accuracy'])\n",
    "model.fit(train_data, validation_data=test_data, epochs=10)\n",
    "\n"
   ]
  },
  {
   "cell_type": "code",
   "execution_count": 12,
   "id": "bac70ee6",
   "metadata": {},
   "outputs": [],
   "source": [
    "model.save('N:/Leukemia Cell Classification/Model/final_model.h5')\n"
   ]
  }
 ],
 "metadata": {
  "kernelspec": {
   "display_name": "Python 3",
   "language": "python",
   "name": "python3"
  },
  "language_info": {
   "codemirror_mode": {
    "name": "ipython",
    "version": 3
   },
   "file_extension": ".py",
   "mimetype": "text/x-python",
   "name": "python",
   "nbconvert_exporter": "python",
   "pygments_lexer": "ipython3",
   "version": "3.10.0"
  }
 },
 "nbformat": 4,
 "nbformat_minor": 5
}
